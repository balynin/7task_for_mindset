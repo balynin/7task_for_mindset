{
 "cells": [
  {
   "attachments": {},
   "cell_type": "markdown",
   "id": "652a9789",
   "metadata": {},
   "source": [
    "# Задача 7 – графовые базы!"
   ]
  },
  {
   "attachments": {},
   "cell_type": "markdown",
   "id": "6e130121",
   "metadata": {},
   "source": [
    "- Установить 2 графовые базы из списка DB-Engines Ranking\n",
    "- Предпочтительные - neo4j, nebula, arangodb\n",
    "- Предпочтительный язык запросов cypher\n",
    "- Создать ipynb ноутбук в котором:\n",
    "- Считать данные из источника https://disk.yandex.ru/d/s6wWqd8Ol_5IvQ\n",
    "- Внести данные из таблицы в графовую БД\n",
    "- Построить графовое представление в БД, осуществить несколько запросов на языке запросов к графовой БД\n",
    "- Найти взаимосвязи визуально и с помощью алгоритмов (алгоритмы на ваше усмотрение)\n",
    "- Написать rest сервис на python к графовой БД в котором на вход поступает ФИО, на выходе graphml или json\n",
    "- Результаты представить на гитхаб и в виде кода + небольшой презентации"
   ]
  },
  {
   "cell_type": "code",
   "execution_count": null,
   "id": "522a57b6",
   "metadata": {},
   "outputs": [],
   "source": [
    "#!pip install py2neo\n",
    "from py2neo import Graph"
   ]
  },
  {
   "cell_type": "code",
   "execution_count": null,
   "id": "9b44bd8a",
   "metadata": {},
   "outputs": [],
   "source": [
    "# python драйвер для Neo4j в обертке  py2neo https://py2neo.org/2021.1/\n",
    "\n",
    "graph = Graph(\"bolt://localhost:7687\", auth=(\"neo4j\", \"neo4j\"))\n",
    "graph.run(\"SHOW DATABASES\")"
   ]
  },
  {
   "cell_type": "code",
   "execution_count": null,
   "id": "2d6bc3bc",
   "metadata": {
    "scrolled": true
   },
   "outputs": [],
   "source": [
    "#!pip3 install pymgclient\n",
    "import mgclient"
   ]
  },
  {
   "cell_type": "code",
   "execution_count": null,
   "id": "afd15e72",
   "metadata": {},
   "outputs": [],
   "source": [
    "#  python bolt драйвер для Memgraph\n",
    "\n",
    "conn = mgclient.connect(host='127.0.0.1', port=7687)\n",
    "\n",
    "# Create a cursor for query execution\n",
    "cursor = conn.cursor()\n",
    "\n",
    "# Execute a query\n",
    "cursor.execute(\"\"\"\n",
    "        CREATE (n:Person {name: 'John'})-[e:KNOWS]->\n",
    "               (m:Person {name: 'Steve'})\n",
    "        RETURN n, e, m\n",
    "    \"\"\")\n",
    "\n",
    "# Fetch one row of query results\n",
    "row = cursor.fetchone()\n",
    "\n",
    "print(row[0])\n",
    "#(:Person {'name': 'John'})\n",
    "\n",
    "print(row[1])\n",
    "#[:KNOWS]\n",
    "\n",
    "print(row[2])\n",
    "#(:Person {'name': 'Steve'})\n",
    "\n",
    "# Make database changes persistent\n",
    "conn.commit()"
   ]
  },
  {
   "cell_type": "markdown",
   "id": "27741d18",
   "metadata": {},
   "source": [
    "## ELT"
   ]
  },
  {
   "cell_type": "code",
   "execution_count": null,
   "id": "0436d298",
   "metadata": {},
   "outputs": [],
   "source": [
    "import pandas as pd\n",
    "import numpy as np"
   ]
  },
  {
   "cell_type": "code",
   "execution_count": null,
   "id": "e483280a",
   "metadata": {},
   "outputs": [],
   "source": [
    "# поправим столбцы при открытии\n",
    "\n",
    "df = pd.read_csv('data_test.csv', delimiter=';', names = ['id_event', 'full_name_event1', 'full_name_event2'])\n",
    "display(df.info())\n",
    "display(df)\n",
    "list(df)\n"
   ]
  },
  {
   "cell_type": "code",
   "execution_count": null,
   "id": "e80f4ed6",
   "metadata": {
    "scrolled": true
   },
   "outputs": [],
   "source": [
    "display(df['id_event'].value_counts())#.tolist())\n",
    "display(df['full_name_event1'].value_counts())#.tolist())\n",
    "display(df['full_name_event2'].value_counts())#.tolist())"
   ]
  },
  {
   "cell_type": "code",
   "execution_count": null,
   "id": "10251cfc",
   "metadata": {},
   "outputs": [],
   "source": [
    "patt = \"(?:{})\".format(df[\"full_name_event2\"].replace(\"\", np.nan).dropna().str.lower().str.cat(sep=\"|\"))\n",
    "df[\"Result\"] = df[\"full_name_event1\"].str.lower().str.contains(patt)\n",
    "display(df[\"Result\"].value_counts())\n",
    "df.to_csv('data_test1.csv', sep=';', encoding='UTF-8')"
   ]
  },
  {
   "cell_type": "markdown",
   "id": "b54bbeed",
   "metadata": {},
   "source": [
    "#### ВЫВОД id_event повторяются, также повторения в full_name_event1 и full_name_event2 учтем при разработке скрипта загрузки графа"
   ]
  },
  {
   "cell_type": "code",
   "execution_count": null,
   "id": "243a1403",
   "metadata": {
    "scrolled": true
   },
   "outputs": [],
   "source": [
    "import csv\n",
    "with open('data_test1.csv', 'r', encoding='UTF-8') as csvfile:\n",
    "    reader = csv.reader(csvfile, delimiter=';')\n",
    "    temp_id= -2\n",
    "    #next(reader)\n",
    "    next(reader)\n",
    "    for row in reader:\n",
    "        if temp_id != row[1]:\n",
    "        #print(row)\n",
    "            print('CREATE (label'+row[0]+':Event {name:'+row[1]+', id_event:'+row[1]+'})')\n",
    "            print('CREATE (Iperson'+row[0]+':Person {name:\"'+row[2]+'\", id_event:'+row[1]+'})')\n",
    "            print('CREATE (IIperson'+row[0]+':Person {name:\"'+row[3]+'\", id_event:'+row[1]+'})')\n",
    "            print('CREATE (Iperson'+row[0]+')-[:TAKE_PART]->(label'+row[0]+')')\n",
    "            print('CREATE (IIperson'+row[0]+')-[:TAKE_PART]->(label'+row[0]+')')\n",
    "            temp_id = row[1]\n",
    "            #print(temp_id)\n",
    "        else:\n",
    "            temp_temp_id=str(int(row[0])-1)\n",
    "            #print('#CREATE (label'+row[0]+':Event {name:'+row[1]+', id_event:'+row[1]+'})')\n",
    "            print('#CREATE (Iperson'+row[0]+':Person {name:\"'+row[2]+'\", id_event:'+row[1]+'})')\n",
    "            print('#CREATE (IIperson'+row[0]+':Person {name:\"'+row[3]+'\", id_event:'+row[1]+'})')\n",
    "            print('#CREATE (Iperson'+row[0]+')-[:TAKE_PART]->(label'+temp_temp_id+')')\n",
    "            print('#CREATE (IIperson'+row[0]+')-[:TAKE_PART]->(label'+temp_temp_id+')')\n",
    "            print('#CREATE (Iperson'+row[0]+')-[:FAMILIAR]->(Iperson'+temp_temp_id+')')\n",
    "            print('#CREATE (IIperson'+row[0]+')-[:FAMILIAR]->(IIperson'+temp_temp_id+')')\n",
    "            temp_id = row[1]\n",
    "            #print(temp_id)\n",
    "            \n",
    "        "
   ]
  },
  {
   "cell_type": "code",
   "execution_count": null,
   "id": "bd757c54",
   "metadata": {},
   "outputs": [],
   "source": [
    "import csv\n",
    "from contextlib import redirect_stdout\n",
    "with open('data_test1.csv', 'r', encoding='UTF-8') as csvfile:\n",
    "    reader = csv.reader(csvfile, delimiter=';')\n",
    "    #next(reader)\n",
    "    next(reader)\n",
    "    with open('out.txt', 'w') as f:\n",
    "        for row in reader:\n",
    "        #print(row)\n",
    "       \n",
    "        #with open('out.txt', 'w') as f:\n",
    "            with redirect_stdout(f):\n",
    "                if temp_id != row[1]:\n",
    "        #print(row)\n",
    "                    print('CREATE (label'+row[0]+':Event {name:'+row[1]+', id_event:'+row[1]+'})')\n",
    "                    print('CREATE (Iperson'+row[0]+':Person {name:\"'+row[2]+'\", id_event:'+row[1]+'})')\n",
    "                    print('CREATE (IIperson'+row[0]+':Person {name:\"'+row[3]+'\", id_event:'+row[1]+'})')\n",
    "                    print('CREATE (I1person'+row[0]+')-[:TAKE_PART]->(label'+row[0]+')')\n",
    "                    print('CREATE (I2person'+row[0]+')-[:TAKE_PART]->(label'+row[0]+')')\n",
    "                    temp_id = row[1]\n",
    "            #print(temp_id)\n",
    "                else:\n",
    "                    temp_temp_id=str(int(row[0])-1)\n",
    "            #print('#CREATE (label'+row[0]+':Event {name:'+row[1]+', id_event:'+row[1]+'})')\n",
    "                    print('CREATE (Iperson'+row[0]+':Person {name:\"'+row[2]+'\", id_event:'+row[1]+'})')\n",
    "                    print('CREATE (IIperson'+row[0]+':Person {name:\"'+row[3]+'\", id_event:'+row[1]+'})')\n",
    "                    print('CREATE (I1person'+row[0]+')-[:TAKE_PART]->(label'+temp_temp_id+')')\n",
    "                    print('CREATE (I2person'+row[0]+')-[:TAKE_PART]->(label'+temp_temp_id+')')\n",
    "                    print('CREATE (I1person'+row[0]+')-[:FAMILIAR]->(I1person'+temp_temp_id+')')\n",
    "                    print('CREATE (I2person'+row[0]+')-[:FAMILIAR]->(I2person'+temp_temp_id+')')\n",
    "                    temp_id = row[1]\n",
    "            #print(temp_id)"
   ]
  },
  {
   "cell_type": "markdown",
   "id": "5102f25c",
   "metadata": {},
   "source": [
    "<img src=\"pic/2023-03-06_12-54-16.png\">"
   ]
  },
  {
   "cell_type": "code",
   "execution_count": null,
   "id": "39837abd",
   "metadata": {
    "scrolled": true
   },
   "outputs": [],
   "source": [
    "df1=df.loc[df['full_name_event1'] == 'Ахромеева Алина Ивановна']\n",
    "print(list(df1.index))"
   ]
  },
  {
   "cell_type": "code",
   "execution_count": null,
   "id": "87bfa1a6",
   "metadata": {},
   "outputs": [],
   "source": [
    "def replacetext(str1, str2):\n",
    "    with open(\"out.txt\", \"rt\", encoding='utf-8') as file:\n",
    "        x = file.read()\n",
    "\n",
    "    with open(\"out.txt\", \"wt\", encoding='utf-8') as file1:\n",
    "        x = x.replace(str1,str2)\n",
    "        file1.write(x)\n",
    "\n",
    "plist = ['I1person276', 'I1person309', 'I1person321', 'I1person472', 'I1person477', 'I1person643', 'I1person690', 'I1person885', 'I1person912', 'I1person1007', 'I1person1145', 'I1person1222', 'I1person1611', 'I1person1696', 'I1person1750', 'I1person1861',\n",
    "          'I1person1937', 'I1person2092', 'I1person2148', 'I1person2223', 'I1person2286', 'I1person2447', 'I1person2651', 'I1person2839', 'I1person2845', 'I1person2958', 'I1person3080', 'I1person3153', 'I1person3171', 'I1person3176', 'I1person3265', 'I1person3295', \n",
    "          'I1person3621', 'I1person3650', 'I1person3766', 'I1person3882', 'I1person3912', 'I1person4087', 'I1person4091', 'I1person4113', 'I1person4151', 'I1person4202', 'I1person4243', 'I1person4252', 'I1person4257', 'I1person4275', 'I1person4299',\n",
    "          'I1person4393']\n",
    "\n",
    "#print(plist)    \n",
    "    \n",
    "for i in plist:\n",
    "    #print(i)\n",
    "    replacetext(i, 'I1person222')"
   ]
  },
  {
   "cell_type": "code",
   "execution_count": null,
   "id": "78724169",
   "metadata": {},
   "outputs": [],
   "source": [
    "#!pip install graphdatascience"
   ]
  },
  {
   "cell_type": "code",
   "execution_count": null,
   "id": "87a104f7",
   "metadata": {
    "scrolled": true
   },
   "outputs": [],
   "source": [
    "from graphdatascience import GraphDataScience\n",
    "\n",
    "host = \"bolt://localhost:7687\"\n",
    "user = \"neo4j\"\n",
    "password= \"neo4j\"\n",
    "\n",
    "gds = GraphDataScience(host, auth=(user, password))\n",
    "gds.set_database(\"neo4j\")\n",
    "print(gds.version())"
   ]
  },
  {
   "cell_type": "code",
   "execution_count": null,
   "id": "642af097",
   "metadata": {},
   "outputs": [],
   "source": [
    "gds.run_cypher(\n",
    "  \"\"\"\n",
    "  CALL gds.graph.project(\n",
    "  'myGraph',\n",
    "  'Person',\n",
    "  {\n",
    "    KNOWS: {\n",
    "      orientation: 'UNDIRECTED'\n",
    "    }\n",
    "  }\n",
    ")\n",
    "\"\"\"\n",
    ")"
   ]
  },
  {
   "cell_type": "code",
   "execution_count": null,
   "id": "56b38f76",
   "metadata": {},
   "outputs": [],
   "source": [
    "gds.run_cypher(\n",
    "  \"\"\"\n",
    "CALL gds.wcc.stream('myGraph')\n",
    "YIELD nodeId, componentId\n",
    "RETURN gds.util.asNode(nodeId).name AS name, componentId\n",
    "ORDER BY componentId, name  \n",
    "\"\"\"\n",
    ")"
   ]
  },
  {
   "cell_type": "code",
   "execution_count": null,
   "id": "82a88a66",
   "metadata": {},
   "outputs": [],
   "source": [
    "gds.run_cypher(\n",
    "  \"\"\"\n",
    "CALL gds.labelPropagation.stream('myGraph')\n",
    "YIELD nodeId, communityId AS Community\n",
    "RETURN gds.util.asNode(nodeId).name AS Name, Community\n",
    "ORDER BY Community, Name\n",
    "  \"\"\"\n",
    ")"
   ]
  },
  {
   "cell_type": "code",
   "execution_count": null,
   "id": "90d90a25",
   "metadata": {},
   "outputs": [],
   "source": [
    "gds.run_cypher(\n",
    "  \"\"\"\n",
    "CALL gds.triangleCount.stream('myGraph')\n",
    "YIELD nodeId, triangleCount\n",
    "RETURN gds.util.asNode(nodeId).name AS name, triangleCount\n",
    "ORDER BY triangleCount DESC\n",
    "  \"\"\"\n",
    ")"
   ]
  },
  {
   "cell_type": "code",
   "execution_count": null,
   "id": "b96d782f",
   "metadata": {},
   "outputs": [],
   "source": [
    "gds.run_cypher(\n",
    "  \"\"\"\n",
    "CALL gds.localClusteringCoefficient.stream('myGraph')\n",
    "YIELD nodeId, localClusteringCoefficient\n",
    "RETURN gds.util.asNode(nodeId).name AS name, localClusteringCoefficient\n",
    "ORDER BY localClusteringCoefficient DESC  \"\"\"\n",
    ")"
   ]
  },
  {
   "cell_type": "code",
   "execution_count": null,
   "id": "1afb4dbd",
   "metadata": {},
   "outputs": [],
   "source": [
    "import bottle\n",
    "from bottle import request, response\n",
    "from bottle import post, get, put, delete\n",
    "\n",
    "@get('/')\n",
    "def getIndex():\n",
    "    return '''\n",
    "    Введите, пример <b>Балынин Дмитрий Эрлихович</b>\n",
    "    <form method=\"post\" action='/fullname'>\n",
    "    <label for=\"fullname\">ФИО:</label>\n",
    "    <input type=\"text\" name=\"fullname\" id=\"name\" value=\"\" />\n",
    "    <input type=\"submit\" value=\"submit\" />\n",
    "    </form></body></html>\n",
    "    '''\n",
    "    \n",
    "@post('/fullname')\n",
    "def getAll():\n",
    "    return '1111'\n",
    " \n",
    "bottle.run()"
   ]
  }
 ],
 "metadata": {
  "kernelspec": {
   "display_name": "Python 3 (ipykernel)",
   "language": "python",
   "name": "python3"
  },
  "language_info": {
   "codemirror_mode": {
    "name": "ipython",
    "version": 3
   },
   "file_extension": ".py",
   "mimetype": "text/x-python",
   "name": "python",
   "nbconvert_exporter": "python",
   "pygments_lexer": "ipython3",
   "version": "3.9.13"
  }
 },
 "nbformat": 4,
 "nbformat_minor": 5
}
