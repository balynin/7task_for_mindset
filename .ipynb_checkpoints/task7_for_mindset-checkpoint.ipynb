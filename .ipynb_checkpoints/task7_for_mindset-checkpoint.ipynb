{
 "cells": [
  {
   "cell_type": "code",
   "execution_count": 38,
   "id": "a514ede4",
   "metadata": {},
   "outputs": [],
   "source": [
    "#!pip install neo4j"
   ]
  },
  {
   "cell_type": "code",
   "execution_count": 39,
   "id": "8a7de6ed",
   "metadata": {
    "scrolled": true
   },
   "outputs": [],
   "source": [
    "#!pip install bottle"
   ]
  },
  {
   "cell_type": "code",
   "execution_count": null,
   "id": "4fc734b3",
   "metadata": {},
   "outputs": [],
   "source": [
    "from bottle import route, run, template\n",
    "\n",
    "@route('/hello/<name>')\n",
    "def index(name):\n",
    "    return template('<b>Здорово {{name}}</b>!', name=name)\n",
    "\n",
    "run(host='localhost', port=8080)"
   ]
  },
  {
   "cell_type": "code",
   "execution_count": 4,
   "id": "9b44bd8a",
   "metadata": {},
   "outputs": [],
   "source": [
    "from neo4j import GraphDatabase\n",
    "\n",
    "\n",
    "URI = \"neo4j://localhost:7687\"\n",
    "AUTH = (\"neo4j\", \"111\")\n",
    "\n",
    "\n",
    "def create_person(tx, name):\n",
    "    tx.run(\"CREATE (a:Person {name: $name})\", name=name)\n",
    "\n",
    "\n",
    "def create_friend_of(tx, name, friend):\n",
    "    tx.run(\"MATCH (a:Person) WHERE a.name = $name \"\n",
    "           \"CREATE (a)-[:KNOWS]->(:Person {name: $friend})\",\n",
    "           name=name, friend=friend)\n",
    "\n",
    "\n",
    "with GraphDatabase.driver(URI, auth=AUTH) as driver:\n",
    "    with driver.session() as session:\n",
    "        session.execute_write(create_person, \"Alice\")\n",
    "        session.execute_write(create_friend_of, \"Alice\", \"Bob\")\n",
    "        session.execute_write(create_friend_of, \"Alice\", \"Carl\")\n",
    "        session.execute_write(create_friend_of, \"Alice\", \"Carl\")"
   ]
  },
  {
   "cell_type": "code",
   "execution_count": 40,
   "id": "eecfaa20",
   "metadata": {},
   "outputs": [],
   "source": [
    "#!pip3 install pymgclient"
   ]
  },
  {
   "cell_type": "code",
   "execution_count": 48,
   "id": "2d6bc3bc",
   "metadata": {
    "scrolled": true
   },
   "outputs": [],
   "source": [
    "import mgclient"
   ]
  },
  {
   "cell_type": "code",
   "execution_count": 52,
   "id": "afd15e72",
   "metadata": {},
   "outputs": [],
   "source": [
    "# Make a connection to the database\n",
    "conn = mgclient.connect(host='127.0.0.1', port=7687)\n",
    " \n",
    "# Create a cursor for query execution\n",
    "cursor = conn.cursor()\n",
    "sql= \"\"\"\n",
    "CREATE (TheMatrix:Movie {title:'The Matrix', released:1999, tagline:'Welcome to the Real World'})\n",
    "CREATE (Keanu:Person {name:'Keanu Reeves', born:1964})\n",
    "CREATE (Carrie:Person {name:'Carrie-Anne Moss', born:1967})\n",
    "CREATE (Laurence:Person {name:'Laurence Fishburne', born:1961})\n",
    "CREATE (Hugo:Person {name:'Hugo Weaving', born:1960})\n",
    "CREATE (LillyW:Person {name:'Lilly Wachowski', born:1967})\n",
    "CREATE (LanaW:Person {name:'Lana Wachowski', born:1965})\n",
    "CREATE (JoelS:Person {name:'Joel Silver', born:1952})\n",
    "CREATE (Keanu)-[:ACTED_IN {roles:['Neo']}]->(TheMatrix),\n",
    "CREATE (Carrie)-[:ACTED_IN {roles:['Trinity']}]->(TheMatrix),\n",
    "CREATE (Laurence)-[:ACTED_IN {roles:['Morpheus']}]->(TheMatrix),\n",
    "CREATE (Hugo)-[:ACTED_IN {roles:['Agent Smith']}]->(TheMatrix),\n",
    "CREATE (LillyW)-[:DIRECTED]->(TheMatrix),\n",
    "CREATE (LanaW)-[:DIRECTED]->(TheMatrix),\n",
    "CREATE (JoelS)-[:PRODUCED]->(TheMatrix);\n",
    "    \"\"\"\n",
    "# Execute a query\n",
    "cursor.execute(sql)\n",
    " \n",
    "# Fetch one row of query results\n",
    "#row = cursor.fetchone()\n",
    " \n",
    "#print(row[0])\n",
    "#(:Person {'name': 'John'})\n",
    " \n",
    "#print(row[1])\n",
    "#[:KNOWS]\n",
    " \n",
    "#print(row[2])\n",
    "#(:Person {'name': 'Steve'})\n",
    " \n",
    "# Make database changes persistent\n",
    "conn.commit()"
   ]
  },
  {
   "cell_type": "code",
   "execution_count": 33,
   "id": "0436d298",
   "metadata": {},
   "outputs": [],
   "source": [
    "import pandas as pd\n",
    "import numpy as np"
   ]
  },
  {
   "cell_type": "code",
   "execution_count": 25,
   "id": "e483280a",
   "metadata": {},
   "outputs": [
    {
     "name": "stdout",
     "output_type": "stream",
     "text": [
      "<class 'pandas.core.frame.DataFrame'>\n",
      "RangeIndex: 5001 entries, 0 to 5000\n",
      "Data columns (total 3 columns):\n",
      " #   Column            Non-Null Count  Dtype \n",
      "---  ------            --------------  ----- \n",
      " 0   id_event          5001 non-null   object\n",
      " 1   full_name_event1  5001 non-null   object\n",
      " 2   full_name_event2  5001 non-null   object\n",
      "dtypes: object(3)\n",
      "memory usage: 117.3+ KB\n"
     ]
    },
    {
     "data": {
      "text/plain": [
       "None"
      ]
     },
     "metadata": {},
     "output_type": "display_data"
    },
    {
     "data": {
      "text/html": [
       "<div>\n",
       "<style scoped>\n",
       "    .dataframe tbody tr th:only-of-type {\n",
       "        vertical-align: middle;\n",
       "    }\n",
       "\n",
       "    .dataframe tbody tr th {\n",
       "        vertical-align: top;\n",
       "    }\n",
       "\n",
       "    .dataframe thead th {\n",
       "        text-align: right;\n",
       "    }\n",
       "</style>\n",
       "<table border=\"1\" class=\"dataframe\">\n",
       "  <thead>\n",
       "    <tr style=\"text-align: right;\">\n",
       "      <th></th>\n",
       "      <th>id_event</th>\n",
       "      <th>full_name_event1</th>\n",
       "      <th>full_name_event2</th>\n",
       "    </tr>\n",
       "  </thead>\n",
       "  <tbody>\n",
       "    <tr>\n",
       "      <th>0</th>\n",
       "      <td>id события</td>\n",
       "      <td>ФИО участника события 1</td>\n",
       "      <td>ФИО участника события 2</td>\n",
       "    </tr>\n",
       "    <tr>\n",
       "      <th>1</th>\n",
       "      <td>189</td>\n",
       "      <td>Галчевская Карина Владимировна</td>\n",
       "      <td>Белоновская Анастасия Семеновна</td>\n",
       "    </tr>\n",
       "    <tr>\n",
       "      <th>2</th>\n",
       "      <td>206</td>\n",
       "      <td>Офицеров Олег Романович</td>\n",
       "      <td>Сапожник Борис Валерьевич</td>\n",
       "    </tr>\n",
       "    <tr>\n",
       "      <th>3</th>\n",
       "      <td>445</td>\n",
       "      <td>Жандарова Лариса Германовна</td>\n",
       "      <td>Чемодуров Дамир Русланович</td>\n",
       "    </tr>\n",
       "    <tr>\n",
       "      <th>4</th>\n",
       "      <td>503</td>\n",
       "      <td>Масимова Яна Дамировна</td>\n",
       "      <td>Мингажетдинов Рамиль Семенович</td>\n",
       "    </tr>\n",
       "    <tr>\n",
       "      <th>...</th>\n",
       "      <td>...</td>\n",
       "      <td>...</td>\n",
       "      <td>...</td>\n",
       "    </tr>\n",
       "    <tr>\n",
       "      <th>4996</th>\n",
       "      <td>999333</td>\n",
       "      <td>Осташов Владимир Данилович</td>\n",
       "      <td>Чалов Илья Владимирович</td>\n",
       "    </tr>\n",
       "    <tr>\n",
       "      <th>4997</th>\n",
       "      <td>999360</td>\n",
       "      <td>Гандыбина Любовь Александровна</td>\n",
       "      <td>Мерлин Илья Юрьевич</td>\n",
       "    </tr>\n",
       "    <tr>\n",
       "      <th>4998</th>\n",
       "      <td>999403</td>\n",
       "      <td>Востоков Виктор Ильдарович</td>\n",
       "      <td>Аликас Никита Андреевич</td>\n",
       "    </tr>\n",
       "    <tr>\n",
       "      <th>4999</th>\n",
       "      <td>999405</td>\n",
       "      <td>Огарева Людмила Ильдаровна</td>\n",
       "      <td>Нагайцева Алина Степановна</td>\n",
       "    </tr>\n",
       "    <tr>\n",
       "      <th>5000</th>\n",
       "      <td>999878</td>\n",
       "      <td>Ряполовский Георгий Петрович</td>\n",
       "      <td>Жилейкин Виктор Павлович</td>\n",
       "    </tr>\n",
       "  </tbody>\n",
       "</table>\n",
       "<p>5001 rows × 3 columns</p>\n",
       "</div>"
      ],
      "text/plain": [
       "        id_event                full_name_event1  \\\n",
       "0     id события         ФИО участника события 1   \n",
       "1            189  Галчевская Карина Владимировна   \n",
       "2            206         Офицеров Олег Романович   \n",
       "3            445     Жандарова Лариса Германовна   \n",
       "4            503          Масимова Яна Дамировна   \n",
       "...          ...                             ...   \n",
       "4996      999333      Осташов Владимир Данилович   \n",
       "4997      999360  Гандыбина Любовь Александровна   \n",
       "4998      999403      Востоков Виктор Ильдарович   \n",
       "4999      999405      Огарева Людмила Ильдаровна   \n",
       "5000      999878    Ряполовский Георгий Петрович   \n",
       "\n",
       "                     full_name_event2  \n",
       "0             ФИО участника события 2  \n",
       "1     Белоновская Анастасия Семеновна  \n",
       "2           Сапожник Борис Валерьевич  \n",
       "3          Чемодуров Дамир Русланович  \n",
       "4      Мингажетдинов Рамиль Семенович  \n",
       "...                               ...  \n",
       "4996          Чалов Илья Владимирович  \n",
       "4997              Мерлин Илья Юрьевич  \n",
       "4998          Аликас Никита Андреевич  \n",
       "4999       Нагайцева Алина Степановна  \n",
       "5000         Жилейкин Виктор Павлович  \n",
       "\n",
       "[5001 rows x 3 columns]"
      ]
     },
     "metadata": {},
     "output_type": "display_data"
    },
    {
     "data": {
      "text/plain": [
       "['id_event', 'full_name_event1', 'full_name_event2']"
      ]
     },
     "execution_count": 25,
     "metadata": {},
     "output_type": "execute_result"
    }
   ],
   "source": [
    "df = pd.read_csv('data_test.csv', delimiter=';', \n",
    "                 names = ['id_event', 'full_name_event1', 'full_name_event2'])\n",
    "display(df.info())\n",
    "display(df)\n",
    "list(df)\n"
   ]
  },
  {
   "cell_type": "code",
   "execution_count": 31,
   "id": "e80f4ed6",
   "metadata": {},
   "outputs": [
    {
     "data": {
      "text/plain": [
       "<bound method Series.unique of 0       id события\n",
       "1              189\n",
       "2              206\n",
       "3              445\n",
       "4              503\n",
       "           ...    \n",
       "4996        999333\n",
       "4997        999360\n",
       "4998        999403\n",
       "4999        999405\n",
       "5000        999878\n",
       "Name: id_event, Length: 5001, dtype: object>"
      ]
     },
     "metadata": {},
     "output_type": "display_data"
    },
    {
     "data": {
      "text/plain": [
       "<bound method Series.unique of 0              ФИО участника события 1\n",
       "1       Галчевская Карина Владимировна\n",
       "2              Офицеров Олег Романович\n",
       "3          Жандарова Лариса Германовна\n",
       "4               Масимова Яна Дамировна\n",
       "                     ...              \n",
       "4996        Осташов Владимир Данилович\n",
       "4997    Гандыбина Любовь Александровна\n",
       "4998        Востоков Виктор Ильдарович\n",
       "4999        Огарева Людмила Ильдаровна\n",
       "5000      Ряполовский Георгий Петрович\n",
       "Name: full_name_event1, Length: 5001, dtype: object>"
      ]
     },
     "metadata": {},
     "output_type": "display_data"
    },
    {
     "data": {
      "text/plain": [
       "<bound method Series.unique of 0               ФИО участника события 2\n",
       "1       Белоновская Анастасия Семеновна\n",
       "2             Сапожник Борис Валерьевич\n",
       "3            Чемодуров Дамир Русланович\n",
       "4        Мингажетдинов Рамиль Семенович\n",
       "                     ...               \n",
       "4996            Чалов Илья Владимирович\n",
       "4997                Мерлин Илья Юрьевич\n",
       "4998            Аликас Никита Андреевич\n",
       "4999         Нагайцева Алина Степановна\n",
       "5000           Жилейкин Виктор Павлович\n",
       "Name: full_name_event2, Length: 5001, dtype: object>"
      ]
     },
     "metadata": {},
     "output_type": "display_data"
    }
   ],
   "source": [
    "display(df['id_event'].unique)\n",
    "display(df['full_name_event1'].unique)\n",
    "display(df['full_name_event2'].unique)"
   ]
  },
  {
   "cell_type": "code",
   "execution_count": 47,
   "id": "10251cfc",
   "metadata": {},
   "outputs": [
    {
     "data": {
      "text/plain": [
       "<bound method Series.unique of 0       False\n",
       "1       False\n",
       "2       False\n",
       "3       False\n",
       "4       False\n",
       "        ...  \n",
       "4996    False\n",
       "4997    False\n",
       "4998    False\n",
       "4999    False\n",
       "5000    False\n",
       "Name: Result, Length: 5001, dtype: bool>"
      ]
     },
     "execution_count": 47,
     "metadata": {},
     "output_type": "execute_result"
    }
   ],
   "source": [
    "patt = \"(?:{})\".format(df[\"full_name_event2\"].replace(\"\", np.nan).dropna().str.lower().str.cat(sep=\"|\"))\n",
    "df[\"Result\"] = df[\"full_name_event1\"].str.lower().str.contains(patt)\n",
    "df[\"Result\"].unique"
   ]
  },
  {
   "cell_type": "code",
   "execution_count": null,
   "id": "243a1403",
   "metadata": {},
   "outputs": [],
   "source": []
  }
 ],
 "metadata": {
  "kernelspec": {
   "display_name": "Python 3 (ipykernel)",
   "language": "python",
   "name": "python3"
  },
  "language_info": {
   "codemirror_mode": {
    "name": "ipython",
    "version": 3
   },
   "file_extension": ".py",
   "mimetype": "text/x-python",
   "name": "python",
   "nbconvert_exporter": "python",
   "pygments_lexer": "ipython3",
   "version": "3.9.13"
  }
 },
 "nbformat": 4,
 "nbformat_minor": 5
}
