{
 "cells": [
  {
   "cell_type": "code",
   "execution_count": null,
   "id": "a514ede4",
   "metadata": {},
   "outputs": [],
   "source": [
    "#!pip install neo4j"
   ]
  },
  {
   "cell_type": "code",
   "execution_count": null,
   "id": "8a7de6ed",
   "metadata": {
    "scrolled": true
   },
   "outputs": [],
   "source": [
    "#!pip install bottle\n",
    "!pip install py2neo"
   ]
  },
  {
   "cell_type": "code",
   "execution_count": null,
   "id": "9b44bd8a",
   "metadata": {},
   "outputs": [],
   "source": [
    "from py2neo import Graph\n",
    "graph = Graph(\"bolt://localhost:7687\", auth=(\"neo4j\", \"neo4j\"))\n",
    "graph.run(\"SHOW DATABASES\")"
   ]
  },
  {
   "cell_type": "code",
   "execution_count": null,
   "id": "eecfaa20",
   "metadata": {},
   "outputs": [],
   "source": [
    "#!pip3 install pymgclient"
   ]
  },
  {
   "cell_type": "code",
   "execution_count": null,
   "id": "2d6bc3bc",
   "metadata": {
    "scrolled": true
   },
   "outputs": [],
   "source": [
    "import mgclient"
   ]
  },
  {
   "cell_type": "code",
   "execution_count": null,
   "id": "afd15e72",
   "metadata": {},
   "outputs": [],
   "source": [
    "# Make a connection to the database\n",
    "conn = mgclient.connect(host='127.0.0.1', port=7687)\n",
    " \n",
    "# Create a cursor for query execution\n",
    "cursor = conn.cursor()\n",
    "sql= \"\"\"\n",
    "CREATE (TheMatrix:Movie {title:'The Matrix', released:1999, tagline:'Welcome to the Real World'})\n",
    "CREATE (Keanu:Person {name:'Киану Ривз', born:1964})\n",
    "CREATE (Carrie:Person {name:'Carrie-Anne Moss', born:1967})\n",
    "CREATE (Laurence:Person {name:'Laurence Fishburne', born:1961})\n",
    "CREATE (Hugo:Person {name:'Hugo Weaving', born:1960})\n",
    "CREATE (LillyW:Person {name:'Lilly Wachowski', born:1967})\n",
    "CREATE (LanaW:Person {name:'Lana Wachowski', born:1965})\n",
    "CREATE (JoelS:Person {name:'Joel Silver', born:1952})\n",
    "CREATE (Keanu)-[:ACTED_IN {roles:['Neo']}]->(TheMatrix)\n",
    "CREATE (Carrie)-[:ACTED_IN {roles:['Trinity']}]->(TheMatrix)\n",
    "CREATE (Laurence)-[:ACTED_IN {roles:['Morpheus']}]->(TheMatrix)\n",
    "CREATE (Hugo)-[:ACTED_IN {roles:['Agent Smith']}]->(TheMatrix)\n",
    "CREATE (LillyW)-[:DIRECTED]->(TheMatrix)\n",
    "CREATE (LanaW)-[:DIRECTED]->(TheMatrix)\n",
    "CREATE (JoelS)-[:PRODUCED]->(TheMatrix)\n",
    "    \"\"\"\n",
    "# Execute a query\n",
    "cursor.execute(sql)\n",
    " \n",
    "# Fetch one row of query results\n",
    "row = cursor.fetchone()\n",
    " \n",
    "#print(row[0])\n",
    "#(:Person {'name': 'John'})\n",
    " \n",
    "#print(row[1])\n",
    "#[:KNOWS]\n",
    " \n",
    "#print(row[2])\n",
    "#(:Person {'name': 'Steve'})\n",
    " \n",
    "# Make database changes persistent\n",
    "conn.commit()"
   ]
  },
  {
   "cell_type": "code",
   "execution_count": null,
   "id": "0436d298",
   "metadata": {},
   "outputs": [],
   "source": [
    "import pandas as pd\n",
    "import numpy as np"
   ]
  },
  {
   "cell_type": "code",
   "execution_count": null,
   "id": "e483280a",
   "metadata": {},
   "outputs": [],
   "source": [
    "df = pd.read_csv('data_test.csv', delimiter=';', names = ['id_event', 'full_name_event1', 'full_name_event2'])\n",
    "display(df.info())\n",
    "display(df)\n",
    "list(df)\n"
   ]
  },
  {
   "cell_type": "code",
   "execution_count": null,
   "id": "e80f4ed6",
   "metadata": {
    "scrolled": true
   },
   "outputs": [],
   "source": [
    "display(df['id_event'].value_counts())#.tolist())\n",
    "display(df['full_name_event1'].value_counts())#.tolist())\n",
    "display(df['full_name_event2'].value_counts())#.tolist())"
   ]
  },
  {
   "cell_type": "code",
   "execution_count": null,
   "id": "471a1ff8",
   "metadata": {},
   "outputs": [],
   "source": []
  },
  {
   "cell_type": "code",
   "execution_count": null,
   "id": "10251cfc",
   "metadata": {},
   "outputs": [],
   "source": [
    "patt = \"(?:{})\".format(df[\"full_name_event2\"].replace(\"\", np.nan).dropna().str.lower().str.cat(sep=\"|\"))\n",
    "df[\"Result\"] = df[\"full_name_event1\"].str.lower().str.contains(patt)\n",
    "display(df[\"Result\"].value_counts())\n",
    "df.to_csv('data_test1.csv', sep=';', encoding='UTF-8')"
   ]
  },
  {
   "cell_type": "code",
   "execution_count": null,
   "id": "243a1403",
   "metadata": {
    "scrolled": true
   },
   "outputs": [],
   "source": [
    "import csv\n",
    "with open('data_test1.csv', 'r', encoding='UTF-8') as csvfile:\n",
    "    reader = csv.reader(csvfile, delimiter=';')\n",
    "    #temp_id= -2\n",
    "    #next(reader)\n",
    "    next(reader)\n",
    "    for row in reader:\n",
    "        if temp_id != row[1]:\n",
    "        #print(row)\n",
    "            print('CREATE (label'+row[0]+':Event {name:'+row[1]+', id_event:'+row[1]+'})')\n",
    "            print('CREATE (Iperson'+row[0]+':Person {name:\"'+row[2]+'\", id_event:'+row[1]+'})')\n",
    "            print('CREATE (IIperson'+row[0]+':Person {name:\"'+row[3]+'\", id_event:'+row[1]+'})')\n",
    "            print('CREATE (Iperson'+row[0]+')-[:TAKE_PART]->(label'+row[0]+')')\n",
    "            print('CREATE (IIperson'+row[0]+')-[:TAKE_PART]->(label'+row[0]+')')\n",
    "            temp_id = row[1]\n",
    "            print(temp_id)\n",
    "        else:\n",
    "            #print('#CREATE (label'+row[0]+':Event {name:'+row[1]+', id_event:'+row[1]+'})')\n",
    "            print('#CREATE (Iperson'+row[0]+':Person {name:\"'+row[2]+'\", id_event:'+row[1]+'})')\n",
    "            print('#CREATE (IIperson'+row[0]+':Person {name:\"'+row[3]+'\", id_event:'+row[1]+'})')\n",
    "            print('#CREATE (Iperson'+row[0]+')-[:TAKE_PART]->(label'+row[0]+')')\n",
    "            print('#CREATE (IIperson'+row[0]+')-[:TAKE_PART]->(label'+row[0]+')')\n",
    "            print('#CREATE (Iperson'+row[0]+')-[:FAMILIAR]->(Iperson'+row[0]+')')\n",
    "            print('#CREATE (IIperson'+row[0]+')-[:FAMILIAR]->(IIperson'+row[0]+')')\n",
    "            temp_id = row[1]\n",
    "            print(temp_id)\n",
    "            \n",
    "        "
   ]
  },
  {
   "cell_type": "code",
   "execution_count": null,
   "id": "bd757c54",
   "metadata": {},
   "outputs": [],
   "source": [
    "import csv\n",
    "from contextlib import redirect_stdout\n",
    "with open('data_test1.csv', 'r', encoding='UTF-8') as csvfile:\n",
    "    reader = csv.reader(csvfile, delimiter=';')\n",
    "    #next(reader)\n",
    "    next(reader)\n",
    "    with open('out.txt', 'w') as f:\n",
    "        for row in reader:\n",
    "        #print(row)\n",
    "       \n",
    "        #with open('out.txt', 'w') as f:\n",
    "            with redirect_stdout(f):\n",
    "                print('CREATE (label'+row[0]+':Event {name:'+row[0]+', id_event:'+row[1]+'})')\n",
    "                print('CREATE (Iperson'+row[0]+':Person {name:\"'+row[2]+'\", id_event:'+row[1]+'})')\n",
    "                print('CREATE (IIperson'+row[0]+':Person {name:\"'+row[3]+'\", id_event:'+row[1]+'})')\n",
    "                print('CREATE (label'+row[0]+')-[:TAKE_PART]->(Iperson'+row[0]+')')\n",
    "                print('CREATE (label'+row[0]+')-[:TAKE_PART]->(IIperson'+row[0]+')')"
   ]
  },
  {
   "cell_type": "code",
   "execution_count": null,
   "id": "49569490",
   "metadata": {
    "scrolled": true
   },
   "outputs": [
    {
     "name": "stderr",
     "output_type": "stream",
     "text": [
      "Bottle v0.13-dev server starting up (using WSGIRefServer())...\n",
      "Listening on http://127.0.0.1:8080/\n",
      "Hit Ctrl-C to quit.\n",
      "\n",
      "127.0.0.1 - - [05/Mar/2023 20:04:31] \"GET / HTTP/1.1\" 200 310\n",
      "127.0.0.1 - - [05/Mar/2023 20:04:49] \"POST /fullname HTTP/1.1\" 200 4\n"
     ]
    }
   ],
   "source": [
    "import bottle\n",
    "from bottle import request, response\n",
    "from bottle import post, get, put, delete\n",
    "\n",
    "@get('/')\n",
    "def getIndex():\n",
    "    return '''\n",
    "    Введите, пример <b>Балынин Дмитрий Эрлихович</b>\n",
    "    <form method=\"post\" action='/fullname'>\n",
    "    <label for=\"fullname\">ФИО:</label>\n",
    "    <input type=\"text\" name=\"fullname\" id=\"name\" value=\"\" />\n",
    "    <input type=\"submit\" value=\"submit\" />\n",
    "    </form></body></html>\n",
    "    '''\n",
    "    \n",
    "@post('/fullname')\n",
    "def getAll():\n",
    "    return '1111'\n",
    " \n",
    "bottle.run()"
   ]
  },
  {
   "cell_type": "code",
   "execution_count": null,
   "id": "78724169",
   "metadata": {},
   "outputs": [],
   "source": [
    "#!pip install graphdatascience"
   ]
  },
  {
   "cell_type": "code",
   "execution_count": null,
   "id": "87a104f7",
   "metadata": {},
   "outputs": [],
   "source": [
    "from graphdatascience import GraphDataScience\n",
    "\n",
    "host = \"bolt://localhost:7687\"\n",
    "user = \"neo4j\"\n",
    "password= \"neo4j\"\n",
    "\n",
    "gds = GraphDataScience(host, auth=(user, password))\n",
    "gds.set_database(\"neo4j\")\n",
    "print(gds.version())"
   ]
  },
  {
   "cell_type": "code",
   "execution_count": null,
   "id": "f60e2ab8",
   "metadata": {},
   "outputs": [],
   "source": [
    "gds.run_cypher(\n",
    "  \"\"\"\n",
    "CREATE\n",
    "  (alice:Person {name: 'Alice'}),\n",
    "  (michael:Person {name: 'Michael'}),\n",
    "  (karin:Person {name: 'Karin'}),\n",
    "  (chris:Person {name: 'Chris'}),\n",
    "  (will:Person {name: 'Will'}),\n",
    "  (mark:Person {name: 'Mark'}),\n",
    "\n",
    "  (michael)-[:KNOWS]->(karin),\n",
    "  (michael)-[:KNOWS]->(chris),\n",
    "  (will)-[:KNOWS]->(michael),\n",
    "  (mark)-[:KNOWS]->(michael),\n",
    "  (mark)-[:KNOWS]->(will),\n",
    "  (alice)-[:KNOWS]->(michael),\n",
    "  (will)-[:KNOWS]->(chris),\n",
    "  (chris)-[:KNOWS]->(karin)\n",
    "  \"\"\"\n",
    ")"
   ]
  },
  {
   "cell_type": "code",
   "execution_count": null,
   "id": "56b38f76",
   "metadata": {},
   "outputs": [],
   "source": [
    "gds.run_cypher(\n",
    "  \"\"\"\n",
    "CALL gds.wcc.stream('myGraph')\n",
    "YIELD nodeId, componentId\n",
    "RETURN gds.util.asNode(nodeId).name AS name, componentId\n",
    "ORDER BY componentId, name  \n",
    "\"\"\"\n",
    ")"
   ]
  },
  {
   "cell_type": "code",
   "execution_count": null,
   "id": "82a88a66",
   "metadata": {},
   "outputs": [],
   "source": [
    "gds.run_cypher(\n",
    "  \"\"\"\n",
    "CALL gds.labelPropagation.stream('myGraph')\n",
    "YIELD nodeId, communityId AS Community\n",
    "RETURN gds.util.asNode(nodeId).name AS Name, Community\n",
    "ORDER BY Community, Name\n",
    "  \"\"\"\n",
    ")"
   ]
  },
  {
   "cell_type": "code",
   "execution_count": null,
   "id": "5f054aab",
   "metadata": {},
   "outputs": [],
   "source": [
    "gds.run_cypher(\n",
    "  \"\"\"\n",
    "CALL gds.graph.project(\n",
    "  'myGraph',\n",
    "  'Person',\n",
    "  {\n",
    "    KNOWS: {\n",
    "      orientation: 'UNDIRECTED'\n",
    "    }\n",
    "  }\n",
    ")\n",
    "  \"\"\"\n",
    ")"
   ]
  },
  {
   "cell_type": "code",
   "execution_count": null,
   "id": "90d90a25",
   "metadata": {},
   "outputs": [],
   "source": [
    "gds.run_cypher(\n",
    "  \"\"\"\n",
    "CALL gds.triangleCount.stream('myGraph')\n",
    "YIELD nodeId, triangleCount\n",
    "RETURN gds.util.asNode(nodeId).name AS name, triangleCount\n",
    "ORDER BY triangleCount DESC\n",
    "  \"\"\"\n",
    ")"
   ]
  },
  {
   "cell_type": "code",
   "execution_count": null,
   "id": "b96d782f",
   "metadata": {},
   "outputs": [],
   "source": [
    "gds.run_cypher(\n",
    "  \"\"\"\n",
    "CALL gds.localClusteringCoefficient.stream('myGraph')\n",
    "YIELD nodeId, localClusteringCoefficient\n",
    "RETURN gds.util.asNode(nodeId).name AS name, localClusteringCoefficient\n",
    "ORDER BY localClusteringCoefficient DESC  \"\"\"\n",
    ")"
   ]
  },
  {
   "cell_type": "markdown",
   "id": "67a94021",
   "metadata": {},
   "source": [
    "<img src='2023-03-05_15-12-14.png'>"
   ]
  },
  {
   "cell_type": "code",
   "execution_count": null,
   "id": "5d591333",
   "metadata": {},
   "outputs": [],
   "source": []
  }
 ],
 "metadata": {
  "kernelspec": {
   "display_name": "Python 3 (ipykernel)",
   "language": "python",
   "name": "python3"
  },
  "language_info": {
   "codemirror_mode": {
    "name": "ipython",
    "version": 3
   },
   "file_extension": ".py",
   "mimetype": "text/x-python",
   "name": "python",
   "nbconvert_exporter": "python",
   "pygments_lexer": "ipython3",
   "version": "3.9.13"
  }
 },
 "nbformat": 4,
 "nbformat_minor": 5
}
