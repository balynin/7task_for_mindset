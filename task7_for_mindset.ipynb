{
 "cells": [
  {
   "cell_type": "markdown",
   "id": "fb6b26d6",
   "metadata": {},
   "source": [
    "# Задача 7 – графовые базы!"
   ]
  },
  {
   "cell_type": "markdown",
   "id": "4f014535",
   "metadata": {},
   "source": [
    "- Установить 2 графовые базы из списка DB-Engines Ranking\n",
    "- Предпочтительные - neo4j, nebula, arangodb\n",
    "- Предпочтительный язык запросов cypher\n",
    "- Создать ipynb ноутбук в котором:\n",
    "- Считать данные из источника https://disk.yandex.ru/d/s6wWqd8Ol_5IvQ\n",
    "- Внести данные из таблицы в графовую БД\n",
    "- Построить графовое представление в БД, осуществить несколько запросов на языке запросов к графовой БД\n",
    "- Найти взаимосвязи визуально и с помощью алгоритмов (алгоритмы на ваше усмотрение)\n",
    "- Написать rest сервис на python к графовой БД в котором на вход поступает ФИО, на выходе graphml или json\n",
    "- Результаты представить на гитхаб и в виде кода + небольшой презентации"
   ]
  },
  {
   "cell_type": "code",
   "execution_count": 1,
   "id": "bcbbba44",
   "metadata": {},
   "outputs": [],
   "source": [
    "#!pip install py2neo\n",
    "from py2neo import Graph"
   ]
  },
  {
   "cell_type": "code",
   "execution_count": 2,
   "id": "9b44bd8a",
   "metadata": {},
   "outputs": [
    {
     "data": {
      "text/html": [
       "<table><tr><th>name</th><th>type</th><th>aliases</th><th>access</th><th>address</th><th>role</th><th>writer</th><th>requestedStatus</th><th>currentStatus</th><th>statusMessage</th><th>default</th><th>home</th><th>constituents</th></tr><tr><td style=\"text-align:left\">neo4j</td><td style=\"text-align:left\">standard</td><td style=\"text-align:left\">[]</td><td style=\"text-align:left\">read-write</td><td style=\"text-align:left\">localhost:7687</td><td style=\"text-align:left\">primary</td><td style=\"text-align:left\">true</td><td style=\"text-align:left\">online</td><td style=\"text-align:left\">online</td><td style=\"text-align:left\"></td><td style=\"text-align:left\">true</td><td style=\"text-align:left\">true</td><td style=\"text-align:left\">[]</td></tr><tr><td style=\"text-align:left\">system</td><td style=\"text-align:left\">system</td><td style=\"text-align:left\">[]</td><td style=\"text-align:left\">read-write</td><td style=\"text-align:left\">localhost:7687</td><td style=\"text-align:left\">primary</td><td style=\"text-align:left\">true</td><td style=\"text-align:left\">online</td><td style=\"text-align:left\">online</td><td style=\"text-align:left\"></td><td style=\"text-align:left\">false</td><td style=\"text-align:left\">false</td><td style=\"text-align:left\">[]</td></tr></table>"
      ],
      "text/plain": [
       " name   | type     | aliases | access     | address        | role    | writer | requestedStatus | currentStatus | statusMessage | default | home  | constituents \n",
       "--------|----------|---------|------------|----------------|---------|--------|-----------------|---------------|---------------|---------|-------|--------------\n",
       " neo4j  | standard | []      | read-write | localhost:7687 | primary | true   | online          | online        |               | true    | true  | []           \n",
       " system | system   | []      | read-write | localhost:7687 | primary | true   | online          | online        |               | false   | false | []           "
      ]
     },
     "execution_count": 2,
     "metadata": {},
     "output_type": "execute_result"
    }
   ],
   "source": [
    "# python драйвер для Neo4j в обертке  py2neo https://py2neo.org/2021.1/\n",
    "\n",
    "graph = Graph(\"bolt://localhost:7687\", auth=(\"neo4j\", \"neo4j\"))\n",
    "graph.run(\"SHOW DATABASES\")"
   ]
  },
  {
   "cell_type": "code",
   "execution_count": 3,
   "id": "2d6bc3bc",
   "metadata": {
    "scrolled": true
   },
   "outputs": [],
   "source": [
    "#!pip3 install pymgclient\n",
    "import mgclient"
   ]
  },
  {
   "cell_type": "code",
   "execution_count": 4,
   "id": "afd15e72",
   "metadata": {},
   "outputs": [],
   "source": [
    "# #  python bolt драйвер для Memgraph\n",
    "\n",
    "# conn = mgclient.connect(host='127.0.0.1', port=7687)\n",
    "\n",
    "# # Create a cursor for query execution\n",
    "# cursor = conn.cursor()\n",
    "\n",
    "# # Execute a query\n",
    "# cursor.execute(\"\"\"\n",
    "#         CREATE (n:Person {name: 'John'})-[e:KNOWS]->\n",
    "#                (m:Person {name: 'Steve'})\n",
    "#         RETURN n, e, m\n",
    "#     \"\"\")\n",
    "\n",
    "# # Fetch one row of query results\n",
    "# row = cursor.fetchone()\n",
    "\n",
    "# print(row[0])\n",
    "# #(:Person {'name': 'John'})\n",
    "\n",
    "# print(row[1])\n",
    "# #[:KNOWS]\n",
    "\n",
    "# print(row[2])\n",
    "# #(:Person {'name': 'Steve'})\n",
    "\n",
    "# # Make database changes persistent\n",
    "# conn.commit()"
   ]
  },
  {
   "cell_type": "markdown",
   "id": "7b2609f2",
   "metadata": {},
   "source": [
    "## ELT"
   ]
  },
  {
   "cell_type": "code",
   "execution_count": 5,
   "id": "0436d298",
   "metadata": {},
   "outputs": [],
   "source": [
    "import pandas as pd\n",
    "import numpy as np"
   ]
  },
  {
   "cell_type": "code",
   "execution_count": 6,
   "id": "e483280a",
   "metadata": {},
   "outputs": [
    {
     "name": "stdout",
     "output_type": "stream",
     "text": [
      "<class 'pandas.core.frame.DataFrame'>\n",
      "RangeIndex: 5001 entries, 0 to 5000\n",
      "Data columns (total 3 columns):\n",
      " #   Column            Non-Null Count  Dtype \n",
      "---  ------            --------------  ----- \n",
      " 0   id_event          5001 non-null   object\n",
      " 1   full_name_event1  5001 non-null   object\n",
      " 2   full_name_event2  5001 non-null   object\n",
      "dtypes: object(3)\n",
      "memory usage: 117.3+ KB\n"
     ]
    },
    {
     "data": {
      "text/plain": [
       "None"
      ]
     },
     "metadata": {},
     "output_type": "display_data"
    },
    {
     "data": {
      "text/html": [
       "<div>\n",
       "<style scoped>\n",
       "    .dataframe tbody tr th:only-of-type {\n",
       "        vertical-align: middle;\n",
       "    }\n",
       "\n",
       "    .dataframe tbody tr th {\n",
       "        vertical-align: top;\n",
       "    }\n",
       "\n",
       "    .dataframe thead th {\n",
       "        text-align: right;\n",
       "    }\n",
       "</style>\n",
       "<table border=\"1\" class=\"dataframe\">\n",
       "  <thead>\n",
       "    <tr style=\"text-align: right;\">\n",
       "      <th></th>\n",
       "      <th>id_event</th>\n",
       "      <th>full_name_event1</th>\n",
       "      <th>full_name_event2</th>\n",
       "    </tr>\n",
       "  </thead>\n",
       "  <tbody>\n",
       "    <tr>\n",
       "      <th>0</th>\n",
       "      <td>id события</td>\n",
       "      <td>ФИО участника события 1</td>\n",
       "      <td>ФИО участника события 2</td>\n",
       "    </tr>\n",
       "    <tr>\n",
       "      <th>1</th>\n",
       "      <td>189</td>\n",
       "      <td>Галчевская Карина Владимировна</td>\n",
       "      <td>Белоновская Анастасия Семеновна</td>\n",
       "    </tr>\n",
       "    <tr>\n",
       "      <th>2</th>\n",
       "      <td>206</td>\n",
       "      <td>Офицеров Олег Романович</td>\n",
       "      <td>Сапожник Борис Валерьевич</td>\n",
       "    </tr>\n",
       "    <tr>\n",
       "      <th>3</th>\n",
       "      <td>445</td>\n",
       "      <td>Жандарова Лариса Германовна</td>\n",
       "      <td>Чемодуров Дамир Русланович</td>\n",
       "    </tr>\n",
       "    <tr>\n",
       "      <th>4</th>\n",
       "      <td>503</td>\n",
       "      <td>Масимова Яна Дамировна</td>\n",
       "      <td>Мингажетдинов Рамиль Семенович</td>\n",
       "    </tr>\n",
       "    <tr>\n",
       "      <th>...</th>\n",
       "      <td>...</td>\n",
       "      <td>...</td>\n",
       "      <td>...</td>\n",
       "    </tr>\n",
       "    <tr>\n",
       "      <th>4996</th>\n",
       "      <td>999333</td>\n",
       "      <td>Осташов Владимир Данилович</td>\n",
       "      <td>Чалов Илья Владимирович</td>\n",
       "    </tr>\n",
       "    <tr>\n",
       "      <th>4997</th>\n",
       "      <td>999360</td>\n",
       "      <td>Гандыбина Любовь Александровна</td>\n",
       "      <td>Мерлин Илья Юрьевич</td>\n",
       "    </tr>\n",
       "    <tr>\n",
       "      <th>4998</th>\n",
       "      <td>999403</td>\n",
       "      <td>Востоков Виктор Ильдарович</td>\n",
       "      <td>Аликас Никита Андреевич</td>\n",
       "    </tr>\n",
       "    <tr>\n",
       "      <th>4999</th>\n",
       "      <td>999405</td>\n",
       "      <td>Огарева Людмила Ильдаровна</td>\n",
       "      <td>Нагайцева Алина Степановна</td>\n",
       "    </tr>\n",
       "    <tr>\n",
       "      <th>5000</th>\n",
       "      <td>999878</td>\n",
       "      <td>Ряполовский Георгий Петрович</td>\n",
       "      <td>Жилейкин Виктор Павлович</td>\n",
       "    </tr>\n",
       "  </tbody>\n",
       "</table>\n",
       "<p>5001 rows × 3 columns</p>\n",
       "</div>"
      ],
      "text/plain": [
       "        id_event                full_name_event1  \\\n",
       "0     id события         ФИО участника события 1   \n",
       "1            189  Галчевская Карина Владимировна   \n",
       "2            206         Офицеров Олег Романович   \n",
       "3            445     Жандарова Лариса Германовна   \n",
       "4            503          Масимова Яна Дамировна   \n",
       "...          ...                             ...   \n",
       "4996      999333      Осташов Владимир Данилович   \n",
       "4997      999360  Гандыбина Любовь Александровна   \n",
       "4998      999403      Востоков Виктор Ильдарович   \n",
       "4999      999405      Огарева Людмила Ильдаровна   \n",
       "5000      999878    Ряполовский Георгий Петрович   \n",
       "\n",
       "                     full_name_event2  \n",
       "0             ФИО участника события 2  \n",
       "1     Белоновская Анастасия Семеновна  \n",
       "2           Сапожник Борис Валерьевич  \n",
       "3          Чемодуров Дамир Русланович  \n",
       "4      Мингажетдинов Рамиль Семенович  \n",
       "...                               ...  \n",
       "4996          Чалов Илья Владимирович  \n",
       "4997              Мерлин Илья Юрьевич  \n",
       "4998          Аликас Никита Андреевич  \n",
       "4999       Нагайцева Алина Степановна  \n",
       "5000         Жилейкин Виктор Павлович  \n",
       "\n",
       "[5001 rows x 3 columns]"
      ]
     },
     "metadata": {},
     "output_type": "display_data"
    },
    {
     "data": {
      "text/plain": [
       "['id_event', 'full_name_event1', 'full_name_event2']"
      ]
     },
     "execution_count": 6,
     "metadata": {},
     "output_type": "execute_result"
    }
   ],
   "source": [
    "# поправим столбцы при открытии\n",
    "\n",
    "df = pd.read_csv('data_test.csv', delimiter=';', names = ['id_event', 'full_name_event1', 'full_name_event2'])\n",
    "display(df.info())\n",
    "display(df)\n",
    "list(df)\n"
   ]
  },
  {
   "cell_type": "code",
   "execution_count": 7,
   "id": "e80f4ed6",
   "metadata": {
    "scrolled": true
   },
   "outputs": [
    {
     "data": {
      "text/plain": [
       "613539    2\n",
       "92995     2\n",
       "390312    2\n",
       "551592    2\n",
       "358194    2\n",
       "         ..\n",
       "333694    1\n",
       "333678    1\n",
       "333635    1\n",
       "333448    1\n",
       "999878    1\n",
       "Name: id_event, Length: 4986, dtype: int64"
      ]
     },
     "metadata": {},
     "output_type": "display_data"
    },
    {
     "data": {
      "text/plain": [
       "Ахромеева Алина Ивановна          49\n",
       "Башнина Антонина Глебовна         14\n",
       "Диомидов Игорь Ильдарович          5\n",
       "Зимнухова Карина Даниловна         4\n",
       "Пафомова Кира Вадимовна            2\n",
       "                                  ..\n",
       "Серафимина Екатерина Никитовна     1\n",
       "Башмашников Тимур Рамилевич        1\n",
       "Онищин Федор Аркадьевич            1\n",
       "Речкалов Марсель Антонович         1\n",
       "Ряполовский Георгий Петрович       1\n",
       "Name: full_name_event1, Length: 4931, dtype: int64"
      ]
     },
     "metadata": {},
     "output_type": "display_data"
    },
    {
     "data": {
      "text/plain": [
       "Медведева Дарья Алексеевна          5\n",
       "Двигубская Валентина Геннадьевна    2\n",
       "Шолохов Игорь Робертович            2\n",
       "ФИО участника события 2             1\n",
       "Шлякова Маргарита Алексеевна        1\n",
       "                                   ..\n",
       "Фомич Семен Ильич                   1\n",
       "Коковкина Валерия Дамировна         1\n",
       "Токранов Данил Степанович           1\n",
       "Аврелин Сергей Кириллович           1\n",
       "Жилейкин Виктор Павлович            1\n",
       "Name: full_name_event2, Length: 4995, dtype: int64"
      ]
     },
     "metadata": {},
     "output_type": "display_data"
    }
   ],
   "source": [
    "display(df['id_event'].value_counts())#.tolist())\n",
    "display(df['full_name_event1'].value_counts())#.tolist())\n",
    "display(df['full_name_event2'].value_counts())#.tolist())"
   ]
  },
  {
   "cell_type": "code",
   "execution_count": 8,
   "id": "10251cfc",
   "metadata": {
    "scrolled": false
   },
   "outputs": [
    {
     "data": {
      "text/plain": [
       "False    4923\n",
       "True       78\n",
       "Name: Result, dtype: int64"
      ]
     },
     "metadata": {},
     "output_type": "display_data"
    }
   ],
   "source": [
    "patt = \"(?:{})\".format(df[\"full_name_event2\"].replace(\"\", np.nan).dropna().str.lower().str.cat(sep=\"|\"))\n",
    "df[\"Result\"] = df[\"full_name_event1\"].str.lower().str.contains(patt)\n",
    "display(df[\"Result\"].value_counts())\n",
    "df.to_csv('data_test1.csv', sep=';', encoding='UTF-8')"
   ]
  },
  {
   "cell_type": "code",
   "execution_count": 9,
   "id": "1284ac13",
   "metadata": {},
   "outputs": [
    {
     "name": "stdout",
     "output_type": "stream",
     "text": [
      "[222, 276, 309, 321, 472, 477, 643, 690, 885, 912, 1007, 1145, 1222, 1611, 1696, 1750, 1861, 1937, 2092, 2148, 2223, 2286, 2447, 2651, 2839, 2845, 2958, 3080, 3153, 3171, 3176, 3265, 3295, 3621, 3650, 3766, 3882, 3912, 4087, 4091, 4113, 4151, 4202, 4243, 4252, 4257, 4275, 4299, 4393]\n"
     ]
    }
   ],
   "source": [
    "df1=df.loc[df['full_name_event1'] == 'Ахромеева Алина Ивановна']\n",
    "print(list(df1.index))"
   ]
  },
  {
   "cell_type": "markdown",
   "id": "6131a7ba",
   "metadata": {},
   "source": [
    "#### ВЫВОД id_event повторяются, также повторения в full_name_event1 и full_name_event2 учтем при разработке скрипта загрузки графа"
   ]
  },
  {
   "cell_type": "code",
   "execution_count": 10,
   "id": "9174fbd1",
   "metadata": {},
   "outputs": [],
   "source": [
    "import csv\n",
    "from contextlib import redirect_stdout\n",
    "with open('data_test1.csv', 'r', encoding='UTF-8') as csvfile:\n",
    "    reader = csv.reader(csvfile, delimiter=';')\n",
    "    temp_id= -2\n",
    "    #next(reader)\n",
    "    next(reader)\n",
    "    with open('out_nodes.txt', 'w', encoding='UTF-8') as f:\n",
    "        for row in reader:\n",
    "        #print(row)\n",
    "       \n",
    "        #with open('out.txt', 'w') as f:\n",
    "            with redirect_stdout(f):\n",
    "                if temp_id != row[1]:\n",
    "        #print(row)\n",
    "                    print('CREATE (label'+row[0]+':Event {name:'+row[1]+', id_event:'+row[1]+'})')\n",
    "                    print('CREATE (aIperson'+row[0]+':Person {name:\"'+row[2]+'\"})')\n",
    "                    print('CREATE (aIIperson'+row[0]+':Person {name:\"'+row[3]+'\"})')\n",
    "                    #print('CREATE (aIperson'+row[0]+')-[:TAKE_PART]-(label'+row[0]+')')\n",
    "                    #print('CREATE (aIIperson'+row[0]+')-[:TAKE_PART]-(label'+row[0]+')')\n",
    "                    temp_id = row[1]\n",
    "            #print(temp_id)\n",
    "                else:\n",
    "                    temp_temp_id=str(int(row[0])-1)\n",
    "            #print('#CREATE (label'+row[0]+':Event {name:'+row[1]+', id_event:'+row[1]+'})')\n",
    "                    print('CREATE (aIperson'+row[0]+':Person {name:\"'+row[2]+'\"})')\n",
    "                    print('CREATE (aIIperson'+row[0]+':Person {name:\"'+row[3]+'\"})')\n",
    "                    #print('CREATE (aIperson'+row[0]+')-[:TAKE_PART]-(label'+temp_temp_id+')')\n",
    "                    #print('CREATE (aIIperson'+row[0]+')-[:TAKE_PART]-(label'+temp_temp_id+')')\n",
    "                    #print('CREATE (aIperson'+row[0]+')-[:FAMILIAR]-(aIperson'+temp_temp_id+')')\n",
    "                    #print('CREATE (aIIperson'+row[0]+')-[:FAMILIAR]-(aIIperson'+temp_temp_id+')')\n",
    "                    temp_id = row[1]\n",
    "            #print(temp_id)"
   ]
  },
  {
   "cell_type": "code",
   "execution_count": 11,
   "id": "bd757c54",
   "metadata": {},
   "outputs": [],
   "source": [
    "import csv\n",
    "from contextlib import redirect_stdout\n",
    "with open('data_test1.csv', 'r', encoding='UTF-8') as csvfile:\n",
    "    reader = csv.reader(csvfile, delimiter=';')\n",
    "    temp_id= -2\n",
    "    #next(reader)\n",
    "    next(reader)\n",
    "    with open('out_edges.txt', 'w', encoding='UTF-8') as f:\n",
    "        for row in reader:\n",
    "        #print(row)\n",
    "       \n",
    "        #with open('out.txt', 'w') as f:\n",
    "            with redirect_stdout(f):\n",
    "                if temp_id != row[1]:\n",
    "        #print(row)\n",
    "                    #print('CREATE (label'+row[0]+':Event {name:'+row[1]+', id_event:'+row[1]+'})')\n",
    "                    #print('CREATE (aIperson'+row[0]+':Person {name:\"'+row[2]+'\"})')\n",
    "                    #print('CREATE (aIIperson'+row[0]+':Person {name:\"'+row[3]+'\"})')\n",
    "                    print('CREATE (aIperson'+row[0]+')-[:TAKE_PART]->(label'+row[0]+')')\n",
    "                    print('CREATE (aIIperson'+row[0]+')-[:TAKE_PART]->(label'+row[0]+')')\n",
    "                    temp_id = row[1]\n",
    "            #print(temp_id)\n",
    "                else:\n",
    "                    temp_temp_id=str(int(row[0])-1)\n",
    "            #print('#CREATE (label'+row[0]+':Event {name:'+row[1]+', id_event:'+row[1]+'})')\n",
    "                    #print('CREATE (aIperson'+row[0]+':Person {name:\"'+row[2]+'\"})')\n",
    "                    #print('CREATE (aIIperson'+row[0]+':Person {name:\"'+row[3]+'\"})')\n",
    "                    print('CREATE (aIperson'+row[0]+')-[:TAKE_PART]->(label'+temp_temp_id+')')\n",
    "                    print('CREATE (aIIperson'+row[0]+')-[:TAKE_PART]->(label'+temp_temp_id+')')\n",
    "                    print('CREATE (aIperson'+row[0]+')-[:FAMILIAR]->(aIperson'+temp_temp_id+')')\n",
    "                    print('CREATE (aIIperson'+row[0]+')-[:FAMILIAR]->(aIIperson'+temp_temp_id+')')\n",
    "                    temp_id = row[1]\n",
    "            #print(temp_id)"
   ]
  },
  {
   "cell_type": "markdown",
   "id": "3e3d7012",
   "metadata": {},
   "source": [
    "![](pic/2023-03-06_12-54-16.png)"
   ]
  },
  {
   "cell_type": "code",
   "execution_count": null,
   "id": "45f8e422",
   "metadata": {},
   "outputs": [],
   "source": [
    "def replacetext(str1, str2):\n",
    "    with open(\"out_edges.txt\", \"rt\", encoding='utf-8') as file:\n",
    "        x = file.read()\n",
    "\n",
    "    with open(\"out_edges.txt\", \"wt\", encoding='utf-8') as file1:\n",
    "        x = x.replace(str1,str2)\n",
    "        file1.write(x)\n",
    "\n",
    "plist = ['aIperson276:P', 'aIperson309:P', 'aIperson321:P', 'aIperson472:P', 'aIperson477:P', 'aIperson643:P', 'aIperson690:P', 'aIperson885:P', 'aIperson912:P', 'Iperson1007', 'aIperson1145:P', 'aIperson1222:P', 'aIperson1611:P', 'aIperson1696:P', 'aIperson1750:P', 'aIperson1861:P',\n",
    "          'aIperson1937:P', 'aIperson2092:P', 'aIperson2148:P', 'aIperson2223:P', 'aIperson2286:P', 'aIperson2447:P', 'aIperson2651:P', 'aIperson2839:P', 'aIperson2845:P', 'aIperson2958:P', 'aIperson3080:P', 'aIperson3153:P', 'aIperson3171:P', 'aIperson3176:P', 'aIperson3265:P', 'aIperson3295:P', \n",
    "          'aIperson3621:P', 'aIperson3650:P', 'aIperson3766:P', 'aIperson3882:P', 'aIperson3912:P', 'aIperson4087:P', 'aIperson4091:P', 'aIperson4113:P', 'aIperson4151:P', 'aIperson4202:P', 'aIperson4243:P', 'aIperson4252:P', 'aIperson4257:P', 'aIperson4275:P', 'aIperson4299:P',\n",
    "          'aIperson4393:P']\n",
    "\n",
    "#print(plist)    \n",
    "    \n",
    "for i in plist:\n",
    "    #print(i)\n",
    "    replacetext(i, 'aIperson222:P')"
   ]
  },
  {
   "cell_type": "code",
   "execution_count": null,
   "id": "2d53ba78",
   "metadata": {},
   "outputs": [],
   "source": []
  },
  {
   "cell_type": "code",
   "execution_count": null,
   "id": "78724169",
   "metadata": {},
   "outputs": [],
   "source": [
    "#!pip install graphdatascience"
   ]
  },
  {
   "cell_type": "code",
   "execution_count": null,
   "id": "87a104f7",
   "metadata": {
    "scrolled": true
   },
   "outputs": [],
   "source": [
    "from graphdatascience import GraphDataScience\n",
    "\n",
    "host = \"bolt://localhost:7687\"\n",
    "user = \"neo4j\"\n",
    "password= \"neo4j\"\n",
    "\n",
    "gds = GraphDataScience(host, auth=(user, password))\n",
    "gds.set_database(\"neo4j\")\n",
    "print(gds.version())"
   ]
  },
  {
   "cell_type": "code",
   "execution_count": null,
   "id": "06858c61",
   "metadata": {},
   "outputs": [],
   "source": [
    "gds.run_cypher(\n",
    "  \"\"\"\n",
    "  CALL gds.graph.project(\n",
    "  'myGraph311',\n",
    "  'Person',\n",
    "  {\n",
    "    TAKE_PART: {\n",
    "      orientation: 'UNDIRECTED'\n",
    "    }\n",
    "  }\n",
    ")\n",
    "\"\"\"\n",
    ")"
   ]
  },
  {
   "cell_type": "markdown",
   "id": "0ed79801",
   "metadata": {},
   "source": [
    "#### Алгоритм подсчета треугольников подсчитывает количество треугольников для каждого узла в графе myGraph*"
   ]
  },
  {
   "cell_type": "code",
   "execution_count": null,
   "id": "90d90a25",
   "metadata": {},
   "outputs": [],
   "source": [
    "gds.run_cypher(\n",
    "  \"\"\"\n",
    "CALL gds.triangleCount.stream('myGraph311')\n",
    "YIELD nodeId, triangleCount\n",
    "RETURN gds.util.asNode(nodeId).name AS name, triangleCount\n",
    "ORDER BY triangleCount DESC\n",
    "  \"\"\"\n",
    ")"
   ]
  },
  {
   "cell_type": "markdown",
   "id": "55cea944",
   "metadata": {},
   "source": [
    "#### Локальный коэффициент кластеризации cn узла n описывает вероятность того, что соседи n также связаны. Для вычисления cn мы используем количество треугольников, узел которых является частью tn, и степень узла dn. "
   ]
  },
  {
   "cell_type": "code",
   "execution_count": null,
   "id": "b96d782f",
   "metadata": {},
   "outputs": [],
   "source": [
    "gds.run_cypher(\n",
    "  \"\"\"\n",
    "CALL gds.localClusteringCoefficient.stream('myGraph311')\n",
    "YIELD nodeId, localClusteringCoefficient\n",
    "RETURN gds.util.asNode(nodeId).name AS name, localClusteringCoefficient\n",
    "ORDER BY localClusteringCoefficient DESC  \"\"\"\n",
    ")"
   ]
  },
  {
   "cell_type": "code",
   "execution_count": null,
   "id": "14bc262d",
   "metadata": {},
   "outputs": [
    {
     "name": "stderr",
     "output_type": "stream",
     "text": [
      "Bottle v0.13-dev server starting up (using WSGIRefServer())...\n",
      "Listening on http://127.0.0.1:8080/\n",
      "Hit Ctrl-C to quit.\n",
      "\n",
      "127.0.0.1 - - [08/Mar/2023 18:07:49] \"GET / HTTP/1.1\" 200 308\n",
      "Traceback (most recent call last):\n",
      "  File \"C:\\Users\\admin\\7task_for_mindset\\bottle.py\", line 983, in _handle\n",
      "    out = route.call(**args)\n",
      "  File \"C:\\Users\\admin\\7task_for_mindset\\bottle.py\", line 2000, in wrapper\n",
      "    rv = callback(*a, **ka)\n",
      "  File \"C:\\Users\\admin\\AppData\\Local\\Temp\\ipykernel_15460\\2065969126.py\", line 34, in getAll\n",
      "    result = session.execute_read(find_fullname, fullname)\n",
      "NameError: name 'fullname' is not defined\n",
      "127.0.0.1 - - [08/Mar/2023 18:07:51] \"POST /fullname HTTP/1.1\" 500 755\n"
     ]
    }
   ],
   "source": [
    "import bottle\n",
    "import json\n",
    "from bottle import request, response\n",
    "from bottle import post, get, put, delete\n",
    "from neo4j import GraphDatabase\n",
    "\n",
    "driver = GraphDatabase.driver(\"neo4j://localhost:7687\",\n",
    "                              auth=(\"neo4j\", \"neo4j\"))\n",
    "\n",
    "def find_fullname(tx, name):\n",
    "    \n",
    "    query = (\"MATCH (a:Person) as p WHERE a.name = $name RETURN p\")\n",
    "    for record in tx.run(query, name=name):\n",
    "        print(record[\"friend.name\"])\n",
    "    #driver.close()\n",
    "    return result\n",
    "\n",
    "    driver.close()\n",
    "\n",
    "@get('/')\n",
    "def getIndex():\n",
    "    return '''\n",
    "    Введите, пример <b>Ахромеева Алина Ивановна</b>\n",
    "    <form method=\"post\" action='/fullname'>\n",
    "    <label for=\"fullname\">ФИО:</label>\n",
    "    <input type=\"text\" name=\"fullname\" id=\"name\" value=\"\" />\n",
    "    <input type=\"submit\" value=\"submit\" />\n",
    "    </form></body></html>\n",
    "    '''\n",
    "    \n",
    "@post('/fullname')\n",
    "def getAll(fullname):\n",
    "    with driver.session(database=\"neo4j\") as session:\n",
    "        result = session.execute_read(find_fullname, fullname)\n",
    "    return json.dumps(result)\n",
    " \n",
    "bottle.run()"
   ]
  },
  {
   "cell_type": "code",
   "execution_count": null,
   "id": "fc6fd653",
   "metadata": {},
   "outputs": [],
   "source": []
  }
 ],
 "metadata": {
  "kernelspec": {
   "display_name": "Python 3 (ipykernel)",
   "language": "python",
   "name": "python3"
  },
  "language_info": {
   "codemirror_mode": {
    "name": "ipython",
    "version": 3
   },
   "file_extension": ".py",
   "mimetype": "text/x-python",
   "name": "python",
   "nbconvert_exporter": "python",
   "pygments_lexer": "ipython3",
   "version": "3.9.13"
  }
 },
 "nbformat": 4,
 "nbformat_minor": 5
}
