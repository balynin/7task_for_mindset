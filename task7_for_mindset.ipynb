{
 "cells": [
  {
   "cell_type": "code",
   "execution_count": 1,
   "id": "3399a836",
   "metadata": {},
   "outputs": [],
   "source": [
    "#!pip install py2neo\n",
    "from py2neo import Graph"
   ]
  },
  {
   "cell_type": "code",
   "execution_count": 2,
   "id": "9b44bd8a",
   "metadata": {},
   "outputs": [
    {
     "data": {
      "text/html": [
       "<table><tr><th>name</th><th>type</th><th>aliases</th><th>access</th><th>address</th><th>role</th><th>writer</th><th>requestedStatus</th><th>currentStatus</th><th>statusMessage</th><th>default</th><th>home</th><th>constituents</th></tr><tr><td style=\"text-align:left\">neo4j</td><td style=\"text-align:left\">standard</td><td style=\"text-align:left\">[]</td><td style=\"text-align:left\">read-write</td><td style=\"text-align:left\">localhost:7687</td><td style=\"text-align:left\">primary</td><td style=\"text-align:left\">true</td><td style=\"text-align:left\">online</td><td style=\"text-align:left\">online</td><td style=\"text-align:left\"></td><td style=\"text-align:left\">true</td><td style=\"text-align:left\">true</td><td style=\"text-align:left\">[]</td></tr><tr><td style=\"text-align:left\">system</td><td style=\"text-align:left\">system</td><td style=\"text-align:left\">[]</td><td style=\"text-align:left\">read-write</td><td style=\"text-align:left\">localhost:7687</td><td style=\"text-align:left\">primary</td><td style=\"text-align:left\">true</td><td style=\"text-align:left\">online</td><td style=\"text-align:left\">online</td><td style=\"text-align:left\"></td><td style=\"text-align:left\">false</td><td style=\"text-align:left\">false</td><td style=\"text-align:left\">[]</td></tr></table>"
      ],
      "text/plain": [
       " name   | type     | aliases | access     | address        | role    | writer | requestedStatus | currentStatus | statusMessage | default | home  | constituents \n",
       "--------|----------|---------|------------|----------------|---------|--------|-----------------|---------------|---------------|---------|-------|--------------\n",
       " neo4j  | standard | []      | read-write | localhost:7687 | primary | true   | online          | online        |               | true    | true  | []           \n",
       " system | system   | []      | read-write | localhost:7687 | primary | true   | online          | online        |               | false   | false | []           "
      ]
     },
     "execution_count": 2,
     "metadata": {},
     "output_type": "execute_result"
    }
   ],
   "source": [
    "graph = Graph(\"bolt://localhost:7687\", auth=(\"neo4j\", \"neo4j\"))\n",
    "graph.run(\"SHOW DATABASES\")"
   ]
  },
  {
   "cell_type": "code",
   "execution_count": 3,
   "id": "2d6bc3bc",
   "metadata": {
    "scrolled": true
   },
   "outputs": [],
   "source": [
    "#!pip3 install pymgclient\n",
    "import mgclient"
   ]
  },
  {
   "cell_type": "code",
   "execution_count": 4,
   "id": "afd15e72",
   "metadata": {},
   "outputs": [
    {
     "ename": "DatabaseError",
     "evalue": "Invalid input 'BEGIN': expected\r\n  \"ALTER\"\r\n  \"CALL\"\r\n  \"CREATE\"\r\n  \"DEALLOCATE\"\r\n  \"DELETE\"\r\n  \"DENY\"\r\n  \"DETACH\"\r\n  \"DROP\"\r\n  \"DRYRUN\"\r\n  \"ENABLE\"\r\n  \"FOREACH\"\r\n  \"GRANT\"\r\n  \"LOAD\"\r\n  \"MATCH\"\r\n  \"MERGE\"\r\n  \"OPTIONAL\"\r\n  \"REALLOCATE\"\r\n  \"REMOVE\"\r\n  \"RENAME\"\r\n  \"RETURN\"\r\n  \"REVOKE\"\r\n  \"SET\"\r\n  \"SHOW\"\r\n  \"START\"\r\n  \"STOP\"\r\n  \"TERMINATE\"\r\n  \"UNWIND\"\r\n  \"USE\"\r\n  \"USING\"\r\n  \"WITH\" (line 1, column 1 (offset: 0))\r\n\"BEGIN\"\r\n ^",
     "output_type": "error",
     "traceback": [
      "\u001b[1;31m---------------------------------------------------------------------------\u001b[0m",
      "\u001b[1;31mDatabaseError\u001b[0m                             Traceback (most recent call last)",
      "\u001b[1;32m~\\AppData\\Local\\Temp\\ipykernel_7376\\1279533560.py\u001b[0m in \u001b[0;36m<module>\u001b[1;34m\u001b[0m\n\u001b[0;32m      8\u001b[0m     \"\"\"\n\u001b[0;32m      9\u001b[0m \u001b[1;31m# Execute a query\u001b[0m\u001b[1;33m\u001b[0m\u001b[1;33m\u001b[0m\u001b[0m\n\u001b[1;32m---> 10\u001b[1;33m \u001b[0mcursor\u001b[0m\u001b[1;33m.\u001b[0m\u001b[0mexecute\u001b[0m\u001b[1;33m(\u001b[0m\u001b[0msql\u001b[0m\u001b[1;33m)\u001b[0m\u001b[1;33m\u001b[0m\u001b[1;33m\u001b[0m\u001b[0m\n\u001b[0m\u001b[0;32m     11\u001b[0m \u001b[1;33m\u001b[0m\u001b[0m\n\u001b[0;32m     12\u001b[0m \u001b[1;31m# Fetch one row of query results\u001b[0m\u001b[1;33m\u001b[0m\u001b[1;33m\u001b[0m\u001b[0m\n",
      "\u001b[1;31mDatabaseError\u001b[0m: Invalid input 'BEGIN': expected\r\n  \"ALTER\"\r\n  \"CALL\"\r\n  \"CREATE\"\r\n  \"DEALLOCATE\"\r\n  \"DELETE\"\r\n  \"DENY\"\r\n  \"DETACH\"\r\n  \"DROP\"\r\n  \"DRYRUN\"\r\n  \"ENABLE\"\r\n  \"FOREACH\"\r\n  \"GRANT\"\r\n  \"LOAD\"\r\n  \"MATCH\"\r\n  \"MERGE\"\r\n  \"OPTIONAL\"\r\n  \"REALLOCATE\"\r\n  \"REMOVE\"\r\n  \"RENAME\"\r\n  \"RETURN\"\r\n  \"REVOKE\"\r\n  \"SET\"\r\n  \"SHOW\"\r\n  \"START\"\r\n  \"STOP\"\r\n  \"TERMINATE\"\r\n  \"UNWIND\"\r\n  \"USE\"\r\n  \"USING\"\r\n  \"WITH\" (line 1, column 1 (offset: 0))\r\n\"BEGIN\"\r\n ^"
     ]
    }
   ],
   "source": [
    "\n",
    "# Make a connection to the database\n",
    "conn = mgclient.connect(host='127.0.0.1', port=7687)\n",
    " \n",
    "# Create a cursor for query execution\n",
    "cursor = conn.cursor()\n",
    "sql= \"\"\"\n",
    "SHOW DATABASES\n",
    "    \"\"\"\n",
    "# Execute a query\n",
    "cursor.execute(sql)\n",
    " \n",
    "# Fetch one row of query results\n",
    "row = cursor.fetchone()\n",
    "print(row)\n",
    "\n",
    "conn.commit()"
   ]
  },
  {
   "cell_type": "code",
   "execution_count": null,
   "id": "0436d298",
   "metadata": {},
   "outputs": [],
   "source": [
    "import pandas as pd\n",
    "import numpy as np"
   ]
  },
  {
   "cell_type": "code",
   "execution_count": null,
   "id": "e483280a",
   "metadata": {},
   "outputs": [],
   "source": [
    "df = pd.read_csv('data_test.csv', delimiter=';', names = ['id_event', 'full_name_event1', 'full_name_event2'])\n",
    "display(df.info())\n",
    "display(df)\n",
    "list(df)\n"
   ]
  },
  {
   "cell_type": "code",
   "execution_count": null,
   "id": "e80f4ed6",
   "metadata": {
    "scrolled": true
   },
   "outputs": [],
   "source": [
    "display(df['id_event'].value_counts())#.tolist())\n",
    "display(df['full_name_event1'].value_counts())#.tolist())\n",
    "display(df['full_name_event2'].value_counts())#.tolist())"
   ]
  },
  {
   "cell_type": "code",
   "execution_count": null,
   "id": "ba53e52c",
   "metadata": {},
   "outputs": [],
   "source": []
  },
  {
   "cell_type": "code",
   "execution_count": null,
   "id": "10251cfc",
   "metadata": {},
   "outputs": [],
   "source": [
    "patt = \"(?:{})\".format(df[\"full_name_event2\"].replace(\"\", np.nan).dropna().str.lower().str.cat(sep=\"|\"))\n",
    "df[\"Result\"] = df[\"full_name_event1\"].str.lower().str.contains(patt)\n",
    "display(df[\"Result\"].value_counts())\n",
    "df.to_csv('data_test1.csv', sep=';', encoding='UTF-8')"
   ]
  },
  {
   "cell_type": "code",
   "execution_count": null,
   "id": "243a1403",
   "metadata": {
    "scrolled": true
   },
   "outputs": [],
   "source": [
    "import csv\n",
    "with open('data_test1.csv', 'r', encoding='UTF-8') as csvfile:\n",
    "    reader = csv.reader(csvfile, delimiter=';')\n",
    "    #temp_id= -2\n",
    "    #next(reader)\n",
    "    next(reader)\n",
    "    for row in reader:\n",
    "        if temp_id != row[1]:\n",
    "        #print(row)\n",
    "            print('CREATE (label'+row[0]+':Event {name:'+row[1]+', id_event:'+row[1]+'})')\n",
    "            print('CREATE (Iperson'+row[0]+':Person {name:\"'+row[2]+'\", id_event:'+row[1]+'})')\n",
    "            print('CREATE (IIperson'+row[0]+':Person {name:\"'+row[3]+'\", id_event:'+row[1]+'})')\n",
    "            print('CREATE (Iperson'+row[0]+')-[:TAKE_PART]->(label'+row[0]+')')\n",
    "            print('CREATE (IIperson'+row[0]+')-[:TAKE_PART]->(label'+row[0]+')')\n",
    "            temp_id = row[1]\n",
    "            print(temp_id)\n",
    "        else:\n",
    "            #print('#CREATE (label'+row[0]+':Event {name:'+row[1]+', id_event:'+row[1]+'})')\n",
    "            print('#CREATE (Iperson'+row[0]+':Person {name:\"'+row[2]+'\", id_event:'+row[1]+'})')\n",
    "            print('#CREATE (IIperson'+row[0]+':Person {name:\"'+row[3]+'\", id_event:'+row[1]+'})')\n",
    "            print('#CREATE (Iperson'+row[0]+')-[:TAKE_PART]->(label'+row[0]+')')\n",
    "            print('#CREATE (IIperson'+row[0]+')-[:TAKE_PART]->(label'+row[0]+')')\n",
    "            print('#CREATE (Iperson'+row[0]+')-[:FAMILIAR]->(Iperson'+row[0]+')')\n",
    "            print('#CREATE (IIperson'+row[0]+')-[:FAMILIAR]->(IIperson'+row[0]+')')\n",
    "            temp_id = row[1]\n",
    "            print(temp_id)\n",
    "            \n",
    "        "
   ]
  },
  {
   "cell_type": "code",
   "execution_count": null,
   "id": "bd757c54",
   "metadata": {},
   "outputs": [],
   "source": [
    "import csv\n",
    "from contextlib import redirect_stdout\n",
    "with open('data_test1.csv', 'r', encoding='UTF-8') as csvfile:\n",
    "    reader = csv.reader(csvfile, delimiter=';')\n",
    "    #next(reader)\n",
    "    next(reader)\n",
    "    with open('out.txt', 'w') as f:\n",
    "        for row in reader:\n",
    "        #print(row)\n",
    "       \n",
    "        #with open('out.txt', 'w') as f:\n",
    "            with redirect_stdout(f):\n",
    "                print('CREATE (label'+row[0]+':Event {name:'+row[0]+', id_event:'+row[1]+'})')\n",
    "                print('CREATE (Iperson'+row[0]+':Person {name:\"'+row[2]+'\", id_event:'+row[1]+'})')\n",
    "                print('CREATE (IIperson'+row[0]+':Person {name:\"'+row[3]+'\", id_event:'+row[1]+'})')\n",
    "                print('CREATE (label'+row[0]+')-[:TAKE_PART]->(Iperson'+row[0]+')')\n",
    "                print('CREATE (label'+row[0]+')-[:TAKE_PART]->(IIperson'+row[0]+')')"
   ]
  },
  {
   "cell_type": "code",
   "execution_count": null,
   "id": "49569490",
   "metadata": {
    "scrolled": true
   },
   "outputs": [],
   "source": [
    "import bottle\n",
    "from bottle import request, response\n",
    "from bottle import post, get, put, delete\n",
    "\n",
    "@get('/')\n",
    "def getIndex():\n",
    "    return '''\n",
    "    Введите, пример <b>Балынин Дмитрий Эрлихович</b>\n",
    "    <form method=\"post\" action='/fullname'>\n",
    "    <label for=\"fullname\">ФИО:</label>\n",
    "    <input type=\"text\" name=\"fullname\" id=\"name\" value=\"\" />\n",
    "    <input type=\"submit\" value=\"submit\" />\n",
    "    </form></body></html>\n",
    "    '''\n",
    "    \n",
    "@post('/fullname')\n",
    "def getAll():\n",
    "    return '1111'\n",
    " \n",
    "bottle.run()"
   ]
  },
  {
   "cell_type": "code",
   "execution_count": null,
   "id": "78724169",
   "metadata": {},
   "outputs": [],
   "source": [
    "#!pip install graphdatascience"
   ]
  },
  {
   "cell_type": "code",
   "execution_count": null,
   "id": "87a104f7",
   "metadata": {},
   "outputs": [],
   "source": [
    "from graphdatascience import GraphDataScience\n",
    "\n",
    "host = \"bolt://localhost:7687\"\n",
    "user = \"neo4j\"\n",
    "password= \"neo4j\"\n",
    "\n",
    "gds = GraphDataScience(host, auth=(user, password))\n",
    "gds.set_database(\"neo4j\")\n",
    "print(gds.version())"
   ]
  },
  {
   "cell_type": "code",
   "execution_count": null,
   "id": "f60e2ab8",
   "metadata": {},
   "outputs": [],
   "source": [
    "gds.run_cypher(\n",
    "  \"\"\"\n",
    "CREATE\n",
    "  (alice:Person {name: 'Alice'}),\n",
    "  (michael:Person {name: 'Michael'}),\n",
    "  (karin:Person {name: 'Karin'}),\n",
    "  (chris:Person {name: 'Chris'}),\n",
    "  (will:Person {name: 'Will'}),\n",
    "  (mark:Person {name: 'Mark'}),\n",
    "\n",
    "  (michael)-[:KNOWS]->(karin),\n",
    "  (michael)-[:KNOWS]->(chris),\n",
    "  (will)-[:KNOWS]->(michael),\n",
    "  (mark)-[:KNOWS]->(michael),\n",
    "  (mark)-[:KNOWS]->(will),\n",
    "  (alice)-[:KNOWS]->(michael),\n",
    "  (will)-[:KNOWS]->(chris),\n",
    "  (chris)-[:KNOWS]->(karin)\n",
    "  \"\"\"\n",
    ")"
   ]
  },
  {
   "cell_type": "code",
   "execution_count": null,
   "id": "56b38f76",
   "metadata": {},
   "outputs": [],
   "source": [
    "gds.run_cypher(\n",
    "  \"\"\"\n",
    "CALL gds.wcc.stream('myGraph')\n",
    "YIELD nodeId, componentId\n",
    "RETURN gds.util.asNode(nodeId).name AS name, componentId\n",
    "ORDER BY componentId, name  \n",
    "\"\"\"\n",
    ")"
   ]
  },
  {
   "cell_type": "code",
   "execution_count": null,
   "id": "82a88a66",
   "metadata": {},
   "outputs": [],
   "source": [
    "gds.run_cypher(\n",
    "  \"\"\"\n",
    "CALL gds.labelPropagation.stream('myGraph')\n",
    "YIELD nodeId, communityId AS Community\n",
    "RETURN gds.util.asNode(nodeId).name AS Name, Community\n",
    "ORDER BY Community, Name\n",
    "  \"\"\"\n",
    ")"
   ]
  },
  {
   "cell_type": "code",
   "execution_count": null,
   "id": "5f054aab",
   "metadata": {},
   "outputs": [],
   "source": [
    "gds.run_cypher(\n",
    "  \"\"\"\n",
    "CALL gds.graph.project(\n",
    "  'myGraph',\n",
    "  'Person',\n",
    "  {\n",
    "    KNOWS: {\n",
    "      orientation: 'UNDIRECTED'\n",
    "    }\n",
    "  }\n",
    ")\n",
    "  \"\"\"\n",
    ")"
   ]
  },
  {
   "cell_type": "code",
   "execution_count": null,
   "id": "90d90a25",
   "metadata": {},
   "outputs": [],
   "source": [
    "gds.run_cypher(\n",
    "  \"\"\"\n",
    "CALL gds.triangleCount.stream('myGraph')\n",
    "YIELD nodeId, triangleCount\n",
    "RETURN gds.util.asNode(nodeId).name AS name, triangleCount\n",
    "ORDER BY triangleCount DESC\n",
    "  \"\"\"\n",
    ")"
   ]
  },
  {
   "cell_type": "code",
   "execution_count": null,
   "id": "b96d782f",
   "metadata": {},
   "outputs": [],
   "source": [
    "gds.run_cypher(\n",
    "  \"\"\"\n",
    "CALL gds.localClusteringCoefficient.stream('myGraph')\n",
    "YIELD nodeId, localClusteringCoefficient\n",
    "RETURN gds.util.asNode(nodeId).name AS name, localClusteringCoefficient\n",
    "ORDER BY localClusteringCoefficient DESC  \"\"\"\n",
    ")"
   ]
  },
  {
   "cell_type": "markdown",
   "id": "a3a88658",
   "metadata": {},
   "source": [
    "<img src='2023-03-05_15-12-14.png'>"
   ]
  },
  {
   "cell_type": "code",
   "execution_count": null,
   "id": "d7ba5990",
   "metadata": {},
   "outputs": [],
   "source": []
  }
 ],
 "metadata": {
  "kernelspec": {
   "display_name": "Python 3 (ipykernel)",
   "language": "python",
   "name": "python3"
  },
  "language_info": {
   "codemirror_mode": {
    "name": "ipython",
    "version": 3
   },
   "file_extension": ".py",
   "mimetype": "text/x-python",
   "name": "python",
   "nbconvert_exporter": "python",
   "pygments_lexer": "ipython3",
   "version": "3.9.13"
  }
 },
 "nbformat": 4,
 "nbformat_minor": 5
}
